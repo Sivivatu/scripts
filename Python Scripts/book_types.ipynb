{
 "cells": [
  {
   "cell_type": "code",
   "execution_count": 1,
   "metadata": {},
   "outputs": [],
   "source": [
    "import os\n",
    "from pathlib import Path\n",
    "\n",
    "from pandas import DataFrame\n"
   ]
  },
  {
   "cell_type": "code",
   "execution_count": 2,
   "metadata": {},
   "outputs": [
    {
     "name": "stdout",
     "output_type": "stream",
     "text": [
      "\\\\ROOKERY\\Media\\Books\n"
     ]
    }
   ],
   "source": [
    "root = Path(\"\\\\\\\\ROOKERY\\\\Media\\\\Books\")\n",
    "print(root)"
   ]
  },
  {
   "cell_type": "code",
   "execution_count": 3,
   "metadata": {},
   "outputs": [
    {
     "data": {
      "text/html": [
       "<div>\n",
       "<style scoped>\n",
       "    .dataframe tbody tr th:only-of-type {\n",
       "        vertical-align: middle;\n",
       "    }\n",
       "\n",
       "    .dataframe tbody tr th {\n",
       "        vertical-align: top;\n",
       "    }\n",
       "\n",
       "    .dataframe thead th {\n",
       "        text-align: right;\n",
       "    }\n",
       "</style>\n",
       "<table border=\"1\" class=\"dataframe\">\n",
       "  <thead>\n",
       "    <tr style=\"text-align: right;\">\n",
       "      <th></th>\n",
       "      <th>root</th>\n",
       "      <th>dirs</th>\n",
       "      <th>files</th>\n",
       "    </tr>\n",
       "  </thead>\n",
       "  <tbody>\n",
       "    <tr>\n",
       "      <th>0</th>\n",
       "      <td>\\\\ROOKERY\\Media\\Books</td>\n",
       "      <td>[Robert Jordan, John Schember, Alexander McCal...</td>\n",
       "      <td>[metadata_db_prefs_backup.json, metadata_pre_r...</td>\n",
       "    </tr>\n",
       "    <tr>\n",
       "      <th>1</th>\n",
       "      <td>\\\\ROOKERY\\Media\\Books\\Robert Jordan</td>\n",
       "      <td>[A Crown of Swords (1187), A Crown of Swords (...</td>\n",
       "      <td>[]</td>\n",
       "    </tr>\n",
       "    <tr>\n",
       "      <th>2</th>\n",
       "      <td>\\\\ROOKERY\\Media\\Books\\Robert Jordan\\A Crown of...</td>\n",
       "      <td>[]</td>\n",
       "      <td>[A Crown of Swords - Robert Jordan.azw3, metad...</td>\n",
       "    </tr>\n",
       "    <tr>\n",
       "      <th>3</th>\n",
       "      <td>\\\\ROOKERY\\Media\\Books\\Robert Jordan\\A Crown of...</td>\n",
       "      <td>[]</td>\n",
       "      <td>[A Crown of Swords - Robert Jordan.azw3]</td>\n",
       "    </tr>\n",
       "    <tr>\n",
       "      <th>4</th>\n",
       "      <td>\\\\ROOKERY\\Media\\Books\\Robert Jordan\\A Memory o...</td>\n",
       "      <td>[]</td>\n",
       "      <td>[A Memory of Light - Robert Jordan.azw3, A Mem...</td>\n",
       "    </tr>\n",
       "  </tbody>\n",
       "</table>\n",
       "</div>"
      ],
      "text/plain": [
       "                                                root  \\\n",
       "0                              \\\\ROOKERY\\Media\\Books   \n",
       "1                \\\\ROOKERY\\Media\\Books\\Robert Jordan   \n",
       "2  \\\\ROOKERY\\Media\\Books\\Robert Jordan\\A Crown of...   \n",
       "3  \\\\ROOKERY\\Media\\Books\\Robert Jordan\\A Crown of...   \n",
       "4  \\\\ROOKERY\\Media\\Books\\Robert Jordan\\A Memory o...   \n",
       "\n",
       "                                                dirs  \\\n",
       "0  [Robert Jordan, John Schember, Alexander McCal...   \n",
       "1  [A Crown of Swords (1187), A Crown of Swords (...   \n",
       "2                                                 []   \n",
       "3                                                 []   \n",
       "4                                                 []   \n",
       "\n",
       "                                               files  \n",
       "0  [metadata_db_prefs_backup.json, metadata_pre_r...  \n",
       "1                                                 []  \n",
       "2  [A Crown of Swords - Robert Jordan.azw3, metad...  \n",
       "3           [A Crown of Swords - Robert Jordan.azw3]  \n",
       "4  [A Memory of Light - Robert Jordan.azw3, A Mem...  "
      ]
     },
     "execution_count": 3,
     "metadata": {},
     "output_type": "execute_result"
    }
   ],
   "source": [
    "\n",
    "\n",
    "\n",
    "file_list = []\n",
    "\n",
    "for file in os.walk(root):\n",
    "    file_list.append(file)\n",
    "\n",
    "df = DataFrame(file_list, columns = [\"root\", \"dirs\", \"files\"])\n",
    "\n",
    "df.head()"
   ]
  },
  {
   "cell_type": "code",
   "execution_count": 14,
   "metadata": {},
   "outputs": [
    {
     "data": {
      "text/plain": [
       "'\\\\\\\\ROOKERY\\\\Media\\\\Books\\\\Robert Jordan\\\\A Crown of Swords (1187)'"
      ]
     },
     "execution_count": 14,
     "metadata": {},
     "output_type": "execute_result"
    }
   ],
   "source": [
    "df.iloc[2,0]"
   ]
  },
  {
   "cell_type": "code",
   "execution_count": 13,
   "metadata": {},
   "outputs": [
    {
     "data": {
      "text/plain": [
       "'\\\\\\\\ROOKERY\\\\Media\\\\Books\\\\Robert Jordan\\\\A Crown of Swords (323)'"
      ]
     },
     "execution_count": 13,
     "metadata": {},
     "output_type": "execute_result"
    }
   ],
   "source": [
    "df.iloc[3,0]"
   ]
  }
 ],
 "metadata": {
  "interpreter": {
   "hash": "13ef176b56903daa1d7f43ea024f82c248962a6e3c11a93c322646e489b7242f"
  },
  "kernelspec": {
   "display_name": "Python 3.10.2 ('scripts-tN0GF_c7')",
   "language": "python",
   "name": "python3"
  },
  "language_info": {
   "codemirror_mode": {
    "name": "ipython",
    "version": 3
   },
   "file_extension": ".py",
   "mimetype": "text/x-python",
   "name": "python",
   "nbconvert_exporter": "python",
   "pygments_lexer": "ipython3",
   "version": "3.10.2"
  },
  "orig_nbformat": 4
 },
 "nbformat": 4,
 "nbformat_minor": 2
}
